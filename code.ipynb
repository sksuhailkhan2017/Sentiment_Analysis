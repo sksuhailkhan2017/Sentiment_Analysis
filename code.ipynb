{
 "cells": [
  {
   "cell_type": "markdown",
   "id": "2014d048-6c8d-4f0f-abbe-7c516ef57a2f",
   "metadata": {},
   "source": [
    "Importing the Libraries"
   ]
  },
  {
   "cell_type": "code",
   "execution_count": 3,
   "id": "1a919bd8-c376-46ed-af09-7d9aa14a52c6",
   "metadata": {},
   "outputs": [],
   "source": [
    "import numpy as np\n",
    "import pandas as pd\n",
    "import matplotlib.pyplot as plt\n",
    "import seaborn as sns"
   ]
  },
  {
   "cell_type": "code",
   "execution_count": 4,
   "id": "cc87da1c-04c5-4dda-bcba-8b3f6e76e085",
   "metadata": {},
   "outputs": [],
   "source": [
    "twitter_data=pd.read_csv('Twitter_Data.csv')\n",
    "reddit_data=pd.read_csv('Reddit_Data.csv')"
   ]
  },
  {
   "cell_type": "code",
   "execution_count": 5,
   "id": "e196be77-f873-43a6-a352-66ef6bb110bb",
   "metadata": {
    "scrolled": true
   },
   "outputs": [
    {
     "data": {
      "text/plain": [
       "(                                          clean_text  category\n",
       " 0  when modi promised “minimum government maximum...      -1.0\n",
       " 1  talk all the nonsense and continue all the dra...       0.0\n",
       " 2  what did just say vote for modi  welcome bjp t...       1.0\n",
       " 3  asking his supporters prefix chowkidar their n...       1.0\n",
       " 4  answer who among these the most powerful world...       1.0,\n",
       "                                        clean_comment  category\n",
       " 0   family mormon have never tried explain them t...         1\n",
       " 1  buddhism has very much lot compatible with chr...         1\n",
       " 2  seriously don say thing first all they won get...        -1\n",
       " 3  what you have learned yours and only yours wha...         0\n",
       " 4  for your own benefit you may want read living ...         1)"
      ]
     },
     "execution_count": 5,
     "metadata": {},
     "output_type": "execute_result"
    }
   ],
   "source": [
    "twitter_data.head(), reddit_data.head()"
   ]
  },
  {
   "cell_type": "code",
   "execution_count": 6,
   "id": "43853cae-ac3c-4232-a9d1-68072703d37f",
   "metadata": {},
   "outputs": [],
   "source": [
    "twitter_data.rename(columns = {'clean_text': 'text'}, inplace = True)\n",
    "reddit_data.rename(columns = {'clean_comment': 'text'}, inplace = True)"
   ]
  },
  {
   "cell_type": "code",
   "execution_count": 7,
   "id": "8606fc2a-d51d-4dc0-8f9c-ed7fa7fb5e68",
   "metadata": {},
   "outputs": [],
   "source": [
    "df=pd.concat([reddit_data, twitter_data], ignore_index = True)"
   ]
  },
  {
   "cell_type": "code",
   "execution_count": 8,
   "id": "02922a82-769d-43a4-83df-54f49a2accf1",
   "metadata": {},
   "outputs": [
    {
     "data": {
      "text/html": [
       "<div>\n",
       "<style scoped>\n",
       "    .dataframe tbody tr th:only-of-type {\n",
       "        vertical-align: middle;\n",
       "    }\n",
       "\n",
       "    .dataframe tbody tr th {\n",
       "        vertical-align: top;\n",
       "    }\n",
       "\n",
       "    .dataframe thead th {\n",
       "        text-align: right;\n",
       "    }\n",
       "</style>\n",
       "<table border=\"1\" class=\"dataframe\">\n",
       "  <thead>\n",
       "    <tr style=\"text-align: right;\">\n",
       "      <th></th>\n",
       "      <th>text</th>\n",
       "      <th>category</th>\n",
       "    </tr>\n",
       "  </thead>\n",
       "  <tbody>\n",
       "    <tr>\n",
       "      <th>0</th>\n",
       "      <td>family mormon have never tried explain them t...</td>\n",
       "      <td>1.0</td>\n",
       "    </tr>\n",
       "    <tr>\n",
       "      <th>1</th>\n",
       "      <td>buddhism has very much lot compatible with chr...</td>\n",
       "      <td>1.0</td>\n",
       "    </tr>\n",
       "    <tr>\n",
       "      <th>2</th>\n",
       "      <td>seriously don say thing first all they won get...</td>\n",
       "      <td>-1.0</td>\n",
       "    </tr>\n",
       "    <tr>\n",
       "      <th>3</th>\n",
       "      <td>what you have learned yours and only yours wha...</td>\n",
       "      <td>0.0</td>\n",
       "    </tr>\n",
       "    <tr>\n",
       "      <th>4</th>\n",
       "      <td>for your own benefit you may want read living ...</td>\n",
       "      <td>1.0</td>\n",
       "    </tr>\n",
       "    <tr>\n",
       "      <th>...</th>\n",
       "      <td>...</td>\n",
       "      <td>...</td>\n",
       "    </tr>\n",
       "    <tr>\n",
       "      <th>200224</th>\n",
       "      <td>why these 456 crores paid neerav modi not reco...</td>\n",
       "      <td>-1.0</td>\n",
       "    </tr>\n",
       "    <tr>\n",
       "      <th>200225</th>\n",
       "      <td>dear rss terrorist payal gawar what about modi...</td>\n",
       "      <td>-1.0</td>\n",
       "    </tr>\n",
       "    <tr>\n",
       "      <th>200226</th>\n",
       "      <td>did you cover her interaction forum where she ...</td>\n",
       "      <td>0.0</td>\n",
       "    </tr>\n",
       "    <tr>\n",
       "      <th>200227</th>\n",
       "      <td>there big project came into india modi dream p...</td>\n",
       "      <td>0.0</td>\n",
       "    </tr>\n",
       "    <tr>\n",
       "      <th>200228</th>\n",
       "      <td>have you ever listen about like gurukul where ...</td>\n",
       "      <td>1.0</td>\n",
       "    </tr>\n",
       "  </tbody>\n",
       "</table>\n",
       "<p>200229 rows × 2 columns</p>\n",
       "</div>"
      ],
      "text/plain": [
       "                                                     text  category\n",
       "0        family mormon have never tried explain them t...       1.0\n",
       "1       buddhism has very much lot compatible with chr...       1.0\n",
       "2       seriously don say thing first all they won get...      -1.0\n",
       "3       what you have learned yours and only yours wha...       0.0\n",
       "4       for your own benefit you may want read living ...       1.0\n",
       "...                                                   ...       ...\n",
       "200224  why these 456 crores paid neerav modi not reco...      -1.0\n",
       "200225  dear rss terrorist payal gawar what about modi...      -1.0\n",
       "200226  did you cover her interaction forum where she ...       0.0\n",
       "200227  there big project came into india modi dream p...       0.0\n",
       "200228  have you ever listen about like gurukul where ...       1.0\n",
       "\n",
       "[200229 rows x 2 columns]"
      ]
     },
     "execution_count": 8,
     "metadata": {},
     "output_type": "execute_result"
    }
   ],
   "source": [
    "df"
   ]
  },
  {
   "cell_type": "markdown",
   "id": "1cdf3c22-a778-419a-abcf-71cd2582ecb3",
   "metadata": {},
   "source": [
    "Data Exploration"
   ]
  },
  {
   "cell_type": "code",
   "execution_count": 9,
   "id": "68ae2c0e-6f47-4ac6-be70-d1e086ce4418",
   "metadata": {},
   "outputs": [
    {
     "data": {
      "text/plain": [
       "(200229, 2)"
      ]
     },
     "execution_count": 9,
     "metadata": {},
     "output_type": "execute_result"
    }
   ],
   "source": [
    "df.shape"
   ]
  },
  {
   "cell_type": "code",
   "execution_count": 10,
   "id": "c5b355cf-9723-42d6-af58-36f9b2b06bce",
   "metadata": {},
   "outputs": [
    {
     "data": {
      "text/html": [
       "<div>\n",
       "<style scoped>\n",
       "    .dataframe tbody tr th:only-of-type {\n",
       "        vertical-align: middle;\n",
       "    }\n",
       "\n",
       "    .dataframe tbody tr th {\n",
       "        vertical-align: top;\n",
       "    }\n",
       "\n",
       "    .dataframe thead th {\n",
       "        text-align: right;\n",
       "    }\n",
       "</style>\n",
       "<table border=\"1\" class=\"dataframe\">\n",
       "  <thead>\n",
       "    <tr style=\"text-align: right;\">\n",
       "      <th></th>\n",
       "      <th>text</th>\n",
       "      <th>category</th>\n",
       "    </tr>\n",
       "  </thead>\n",
       "  <tbody>\n",
       "    <tr>\n",
       "      <th>0</th>\n",
       "      <td>family mormon have never tried explain them t...</td>\n",
       "      <td>1.0</td>\n",
       "    </tr>\n",
       "    <tr>\n",
       "      <th>1</th>\n",
       "      <td>buddhism has very much lot compatible with chr...</td>\n",
       "      <td>1.0</td>\n",
       "    </tr>\n",
       "    <tr>\n",
       "      <th>2</th>\n",
       "      <td>seriously don say thing first all they won get...</td>\n",
       "      <td>-1.0</td>\n",
       "    </tr>\n",
       "    <tr>\n",
       "      <th>3</th>\n",
       "      <td>what you have learned yours and only yours wha...</td>\n",
       "      <td>0.0</td>\n",
       "    </tr>\n",
       "    <tr>\n",
       "      <th>4</th>\n",
       "      <td>for your own benefit you may want read living ...</td>\n",
       "      <td>1.0</td>\n",
       "    </tr>\n",
       "  </tbody>\n",
       "</table>\n",
       "</div>"
      ],
      "text/plain": [
       "                                                text  category\n",
       "0   family mormon have never tried explain them t...       1.0\n",
       "1  buddhism has very much lot compatible with chr...       1.0\n",
       "2  seriously don say thing first all they won get...      -1.0\n",
       "3  what you have learned yours and only yours wha...       0.0\n",
       "4  for your own benefit you may want read living ...       1.0"
      ]
     },
     "execution_count": 10,
     "metadata": {},
     "output_type": "execute_result"
    }
   ],
   "source": [
    "df.head()"
   ]
  },
  {
   "cell_type": "code",
   "execution_count": 11,
   "id": "b6d8a7c5-372b-4cfe-8f14-3e32047fff00",
   "metadata": {},
   "outputs": [
    {
     "data": {
      "text/plain": [
       "category\n",
       " 1.0    88080\n",
       " 0.0    68355\n",
       "-1.0    43787\n",
       "Name: count, dtype: int64"
      ]
     },
     "execution_count": 11,
     "metadata": {},
     "output_type": "execute_result"
    }
   ],
   "source": [
    "df['category'].value_counts()"
   ]
  },
  {
   "cell_type": "code",
   "execution_count": 12,
   "id": "a6368d2a-f85b-4749-9efe-a3dab7412d0a",
   "metadata": {},
   "outputs": [],
   "source": [
    "df['category']=df['category'].map({-1.0:'Negative', 0.0:'Neutral', 1.0:'Positive'})"
   ]
  },
  {
   "cell_type": "code",
   "execution_count": 13,
   "id": "6d8ebdd0-2c06-438c-a61d-9f46222c1167",
   "metadata": {
    "scrolled": true
   },
   "outputs": [
    {
     "data": {
      "text/html": [
       "<div>\n",
       "<style scoped>\n",
       "    .dataframe tbody tr th:only-of-type {\n",
       "        vertical-align: middle;\n",
       "    }\n",
       "\n",
       "    .dataframe tbody tr th {\n",
       "        vertical-align: top;\n",
       "    }\n",
       "\n",
       "    .dataframe thead th {\n",
       "        text-align: right;\n",
       "    }\n",
       "</style>\n",
       "<table border=\"1\" class=\"dataframe\">\n",
       "  <thead>\n",
       "    <tr style=\"text-align: right;\">\n",
       "      <th></th>\n",
       "      <th>text</th>\n",
       "      <th>category</th>\n",
       "    </tr>\n",
       "  </thead>\n",
       "  <tbody>\n",
       "    <tr>\n",
       "      <th>0</th>\n",
       "      <td>family mormon have never tried explain them t...</td>\n",
       "      <td>Positive</td>\n",
       "    </tr>\n",
       "    <tr>\n",
       "      <th>1</th>\n",
       "      <td>buddhism has very much lot compatible with chr...</td>\n",
       "      <td>Positive</td>\n",
       "    </tr>\n",
       "    <tr>\n",
       "      <th>2</th>\n",
       "      <td>seriously don say thing first all they won get...</td>\n",
       "      <td>Negative</td>\n",
       "    </tr>\n",
       "    <tr>\n",
       "      <th>3</th>\n",
       "      <td>what you have learned yours and only yours wha...</td>\n",
       "      <td>Neutral</td>\n",
       "    </tr>\n",
       "    <tr>\n",
       "      <th>4</th>\n",
       "      <td>for your own benefit you may want read living ...</td>\n",
       "      <td>Positive</td>\n",
       "    </tr>\n",
       "    <tr>\n",
       "      <th>...</th>\n",
       "      <td>...</td>\n",
       "      <td>...</td>\n",
       "    </tr>\n",
       "    <tr>\n",
       "      <th>200224</th>\n",
       "      <td>why these 456 crores paid neerav modi not reco...</td>\n",
       "      <td>Negative</td>\n",
       "    </tr>\n",
       "    <tr>\n",
       "      <th>200225</th>\n",
       "      <td>dear rss terrorist payal gawar what about modi...</td>\n",
       "      <td>Negative</td>\n",
       "    </tr>\n",
       "    <tr>\n",
       "      <th>200226</th>\n",
       "      <td>did you cover her interaction forum where she ...</td>\n",
       "      <td>Neutral</td>\n",
       "    </tr>\n",
       "    <tr>\n",
       "      <th>200227</th>\n",
       "      <td>there big project came into india modi dream p...</td>\n",
       "      <td>Neutral</td>\n",
       "    </tr>\n",
       "    <tr>\n",
       "      <th>200228</th>\n",
       "      <td>have you ever listen about like gurukul where ...</td>\n",
       "      <td>Positive</td>\n",
       "    </tr>\n",
       "  </tbody>\n",
       "</table>\n",
       "<p>200229 rows × 2 columns</p>\n",
       "</div>"
      ],
      "text/plain": [
       "                                                     text  category\n",
       "0        family mormon have never tried explain them t...  Positive\n",
       "1       buddhism has very much lot compatible with chr...  Positive\n",
       "2       seriously don say thing first all they won get...  Negative\n",
       "3       what you have learned yours and only yours wha...   Neutral\n",
       "4       for your own benefit you may want read living ...  Positive\n",
       "...                                                   ...       ...\n",
       "200224  why these 456 crores paid neerav modi not reco...  Negative\n",
       "200225  dear rss terrorist payal gawar what about modi...  Negative\n",
       "200226  did you cover her interaction forum where she ...   Neutral\n",
       "200227  there big project came into india modi dream p...   Neutral\n",
       "200228  have you ever listen about like gurukul where ...  Positive\n",
       "\n",
       "[200229 rows x 2 columns]"
      ]
     },
     "execution_count": 13,
     "metadata": {},
     "output_type": "execute_result"
    }
   ],
   "source": [
    "df"
   ]
  },
  {
   "cell_type": "markdown",
   "id": "403e48af-8fbe-4f6e-a808-773294a663f5",
   "metadata": {},
   "source": [
    "Data Preprocessing"
   ]
  },
  {
   "cell_type": "code",
   "execution_count": 14,
   "id": "2a7defc7-250a-4ec4-b5bb-a3ba0efa5eb0",
   "metadata": {},
   "outputs": [
    {
     "data": {
      "text/plain": [
       "text        104\n",
       "category      7\n",
       "dtype: int64"
      ]
     },
     "execution_count": 14,
     "metadata": {},
     "output_type": "execute_result"
    }
   ],
   "source": [
    "#Checking for null values\n",
    "df.isnull().sum()"
   ]
  },
  {
   "cell_type": "code",
   "execution_count": 15,
   "id": "9c3c7804-a521-42c4-ae02-05e114c76d30",
   "metadata": {},
   "outputs": [],
   "source": [
    "#removing the rows which contain null values\n",
    "df1= df.dropna()"
   ]
  },
  {
   "cell_type": "code",
   "execution_count": 16,
   "id": "e2d4d909-6d85-402e-8292-8a530d0d1b11",
   "metadata": {
    "scrolled": true
   },
   "outputs": [
    {
     "data": {
      "text/plain": [
       "text        0\n",
       "category    0\n",
       "dtype: int64"
      ]
     },
     "execution_count": 16,
     "metadata": {},
     "output_type": "execute_result"
    }
   ],
   "source": [
    "df1.isnull().sum()"
   ]
  },
  {
   "cell_type": "code",
   "execution_count": 17,
   "id": "7d87c607-f145-4f14-8a11-a53ae568fb3b",
   "metadata": {},
   "outputs": [],
   "source": [
    "#Changing to lowercase\n",
    "df1.loc[:,'text']=df1['text'].str.lower()"
   ]
  },
  {
   "cell_type": "code",
   "execution_count": 18,
   "id": "70b5aca5-f8ed-42c0-81cd-15d7b4719c6d",
   "metadata": {},
   "outputs": [],
   "source": [
    "import re"
   ]
  },
  {
   "cell_type": "code",
   "execution_count": 19,
   "id": "f877c57e-fd9a-48a4-a102-0bacd06be8e4",
   "metadata": {},
   "outputs": [],
   "source": [
    "def remove_except_alphanumeric(text):\n",
    "    return re.sub(r\"[^A-Za-z0-9]\",' ', text)"
   ]
  },
  {
   "cell_type": "code",
   "execution_count": 20,
   "id": "0487de69-de2b-4fd5-aedc-d73d93b5e3a2",
   "metadata": {},
   "outputs": [],
   "source": [
    "df1.loc[:,'text']=df1['text'].apply(remove_except_alphanumeric)"
   ]
  },
  {
   "cell_type": "code",
   "execution_count": 21,
   "id": "4c11a4ed-58da-44d9-b9bc-2374fe344e71",
   "metadata": {},
   "outputs": [
    {
     "data": {
      "text/html": [
       "<div>\n",
       "<style scoped>\n",
       "    .dataframe tbody tr th:only-of-type {\n",
       "        vertical-align: middle;\n",
       "    }\n",
       "\n",
       "    .dataframe tbody tr th {\n",
       "        vertical-align: top;\n",
       "    }\n",
       "\n",
       "    .dataframe thead th {\n",
       "        text-align: right;\n",
       "    }\n",
       "</style>\n",
       "<table border=\"1\" class=\"dataframe\">\n",
       "  <thead>\n",
       "    <tr style=\"text-align: right;\">\n",
       "      <th></th>\n",
       "      <th>text</th>\n",
       "      <th>category</th>\n",
       "    </tr>\n",
       "  </thead>\n",
       "  <tbody>\n",
       "    <tr>\n",
       "      <th>0</th>\n",
       "      <td>family mormon have never tried explain them t...</td>\n",
       "      <td>Positive</td>\n",
       "    </tr>\n",
       "    <tr>\n",
       "      <th>1</th>\n",
       "      <td>buddhism has very much lot compatible with chr...</td>\n",
       "      <td>Positive</td>\n",
       "    </tr>\n",
       "    <tr>\n",
       "      <th>2</th>\n",
       "      <td>seriously don say thing first all they won get...</td>\n",
       "      <td>Negative</td>\n",
       "    </tr>\n",
       "    <tr>\n",
       "      <th>3</th>\n",
       "      <td>what you have learned yours and only yours wha...</td>\n",
       "      <td>Neutral</td>\n",
       "    </tr>\n",
       "    <tr>\n",
       "      <th>4</th>\n",
       "      <td>for your own benefit you may want read living ...</td>\n",
       "      <td>Positive</td>\n",
       "    </tr>\n",
       "    <tr>\n",
       "      <th>...</th>\n",
       "      <td>...</td>\n",
       "      <td>...</td>\n",
       "    </tr>\n",
       "    <tr>\n",
       "      <th>200224</th>\n",
       "      <td>why these 456 crores paid neerav modi not reco...</td>\n",
       "      <td>Negative</td>\n",
       "    </tr>\n",
       "    <tr>\n",
       "      <th>200225</th>\n",
       "      <td>dear rss terrorist payal gawar what about modi...</td>\n",
       "      <td>Negative</td>\n",
       "    </tr>\n",
       "    <tr>\n",
       "      <th>200226</th>\n",
       "      <td>did you cover her interaction forum where she ...</td>\n",
       "      <td>Neutral</td>\n",
       "    </tr>\n",
       "    <tr>\n",
       "      <th>200227</th>\n",
       "      <td>there big project came into india modi dream p...</td>\n",
       "      <td>Neutral</td>\n",
       "    </tr>\n",
       "    <tr>\n",
       "      <th>200228</th>\n",
       "      <td>have you ever listen about like gurukul where ...</td>\n",
       "      <td>Positive</td>\n",
       "    </tr>\n",
       "  </tbody>\n",
       "</table>\n",
       "<p>200118 rows × 2 columns</p>\n",
       "</div>"
      ],
      "text/plain": [
       "                                                     text  category\n",
       "0        family mormon have never tried explain them t...  Positive\n",
       "1       buddhism has very much lot compatible with chr...  Positive\n",
       "2       seriously don say thing first all they won get...  Negative\n",
       "3       what you have learned yours and only yours wha...   Neutral\n",
       "4       for your own benefit you may want read living ...  Positive\n",
       "...                                                   ...       ...\n",
       "200224  why these 456 crores paid neerav modi not reco...  Negative\n",
       "200225  dear rss terrorist payal gawar what about modi...  Negative\n",
       "200226  did you cover her interaction forum where she ...   Neutral\n",
       "200227  there big project came into india modi dream p...   Neutral\n",
       "200228  have you ever listen about like gurukul where ...  Positive\n",
       "\n",
       "[200118 rows x 2 columns]"
      ]
     },
     "execution_count": 21,
     "metadata": {},
     "output_type": "execute_result"
    }
   ],
   "source": [
    "df1"
   ]
  },
  {
   "cell_type": "code",
   "execution_count": 22,
   "id": "bb23a6b9-20d7-4563-a07b-5648cfa1372e",
   "metadata": {},
   "outputs": [
    {
     "data": {
      "text/html": [
       "<div>\n",
       "<style scoped>\n",
       "    .dataframe tbody tr th:only-of-type {\n",
       "        vertical-align: middle;\n",
       "    }\n",
       "\n",
       "    .dataframe tbody tr th {\n",
       "        vertical-align: top;\n",
       "    }\n",
       "\n",
       "    .dataframe thead th {\n",
       "        text-align: right;\n",
       "    }\n",
       "</style>\n",
       "<table border=\"1\" class=\"dataframe\">\n",
       "  <thead>\n",
       "    <tr style=\"text-align: right;\">\n",
       "      <th></th>\n",
       "      <th>text</th>\n",
       "      <th>category</th>\n",
       "    </tr>\n",
       "  </thead>\n",
       "  <tbody>\n",
       "    <tr>\n",
       "      <th>0</th>\n",
       "      <td>[family, mormon, have, never, tried, explain, ...</td>\n",
       "      <td>Positive</td>\n",
       "    </tr>\n",
       "    <tr>\n",
       "      <th>1</th>\n",
       "      <td>[buddhism, has, very, much, lot, compatible, w...</td>\n",
       "      <td>Positive</td>\n",
       "    </tr>\n",
       "    <tr>\n",
       "      <th>2</th>\n",
       "      <td>[seriously, don, say, thing, first, all, they,...</td>\n",
       "      <td>Negative</td>\n",
       "    </tr>\n",
       "    <tr>\n",
       "      <th>3</th>\n",
       "      <td>[what, you, have, learned, yours, and, only, y...</td>\n",
       "      <td>Neutral</td>\n",
       "    </tr>\n",
       "    <tr>\n",
       "      <th>4</th>\n",
       "      <td>[for, your, own, benefit, you, may, want, read...</td>\n",
       "      <td>Positive</td>\n",
       "    </tr>\n",
       "    <tr>\n",
       "      <th>...</th>\n",
       "      <td>...</td>\n",
       "      <td>...</td>\n",
       "    </tr>\n",
       "    <tr>\n",
       "      <th>200224</th>\n",
       "      <td>[why, these, 456, crores, paid, neerav, modi, ...</td>\n",
       "      <td>Negative</td>\n",
       "    </tr>\n",
       "    <tr>\n",
       "      <th>200225</th>\n",
       "      <td>[dear, rss, terrorist, payal, gawar, what, abo...</td>\n",
       "      <td>Negative</td>\n",
       "    </tr>\n",
       "    <tr>\n",
       "      <th>200226</th>\n",
       "      <td>[did, you, cover, her, interaction, forum, whe...</td>\n",
       "      <td>Neutral</td>\n",
       "    </tr>\n",
       "    <tr>\n",
       "      <th>200227</th>\n",
       "      <td>[there, big, project, came, into, india, modi,...</td>\n",
       "      <td>Neutral</td>\n",
       "    </tr>\n",
       "    <tr>\n",
       "      <th>200228</th>\n",
       "      <td>[have, you, ever, listen, about, like, gurukul...</td>\n",
       "      <td>Positive</td>\n",
       "    </tr>\n",
       "  </tbody>\n",
       "</table>\n",
       "<p>200118 rows × 2 columns</p>\n",
       "</div>"
      ],
      "text/plain": [
       "                                                     text  category\n",
       "0       [family, mormon, have, never, tried, explain, ...  Positive\n",
       "1       [buddhism, has, very, much, lot, compatible, w...  Positive\n",
       "2       [seriously, don, say, thing, first, all, they,...  Negative\n",
       "3       [what, you, have, learned, yours, and, only, y...   Neutral\n",
       "4       [for, your, own, benefit, you, may, want, read...  Positive\n",
       "...                                                   ...       ...\n",
       "200224  [why, these, 456, crores, paid, neerav, modi, ...  Negative\n",
       "200225  [dear, rss, terrorist, payal, gawar, what, abo...  Negative\n",
       "200226  [did, you, cover, her, interaction, forum, whe...   Neutral\n",
       "200227  [there, big, project, came, into, india, modi,...   Neutral\n",
       "200228  [have, you, ever, listen, about, like, gurukul...  Positive\n",
       "\n",
       "[200118 rows x 2 columns]"
      ]
     },
     "execution_count": 22,
     "metadata": {},
     "output_type": "execute_result"
    }
   ],
   "source": [
    "from nltk.tokenize import sent_tokenize, word_tokenize\n",
    "df1.loc[:,'text']=df1['text'].apply(word_tokenize)\n",
    "df1"
   ]
  },
  {
   "cell_type": "code",
   "execution_count": 23,
   "id": "0c2bcaf5-31f0-488e-a104-bc3a351e0c17",
   "metadata": {},
   "outputs": [],
   "source": [
    "from nltk.stem import PorterStemmer\n",
    "from nltk.corpus import stopwords"
   ]
  },
  {
   "cell_type": "code",
   "execution_count": 24,
   "id": "d12db98f-41af-4c2f-abb9-d5e2dd422a7f",
   "metadata": {},
   "outputs": [],
   "source": [
    "stemmer = PorterStemmer()\n",
    "stop_words = set(stopwords.words('english'))"
   ]
  },
  {
   "cell_type": "code",
   "execution_count": 25,
   "id": "10eb0d4e-a974-435b-8a2d-02b4169adbae",
   "metadata": {},
   "outputs": [],
   "source": [
    "def stemming(text):\n",
    "    stemmed_text = [stemmer.stem(token) for token in text if token.lower() not in stop_words]\n",
    "    return ' '.join(stemmed_text)"
   ]
  },
  {
   "cell_type": "code",
   "execution_count": 26,
   "id": "c32e7fa8-c23b-4a59-b4bf-6e5f01751a82",
   "metadata": {},
   "outputs": [],
   "source": [
    "df1.loc[:,'text'] = df1['text'].apply(stemming)"
   ]
  },
  {
   "cell_type": "code",
   "execution_count": 27,
   "id": "dd6049e4-e6d0-4c66-a8c1-eb15ec5dba31",
   "metadata": {},
   "outputs": [
    {
     "data": {
      "text/html": [
       "<div>\n",
       "<style scoped>\n",
       "    .dataframe tbody tr th:only-of-type {\n",
       "        vertical-align: middle;\n",
       "    }\n",
       "\n",
       "    .dataframe tbody tr th {\n",
       "        vertical-align: top;\n",
       "    }\n",
       "\n",
       "    .dataframe thead th {\n",
       "        text-align: right;\n",
       "    }\n",
       "</style>\n",
       "<table border=\"1\" class=\"dataframe\">\n",
       "  <thead>\n",
       "    <tr style=\"text-align: right;\">\n",
       "      <th></th>\n",
       "      <th>text</th>\n",
       "      <th>category</th>\n",
       "    </tr>\n",
       "  </thead>\n",
       "  <tbody>\n",
       "    <tr>\n",
       "      <th>0</th>\n",
       "      <td>famili mormon never tri explain still stare pu...</td>\n",
       "      <td>Positive</td>\n",
       "    </tr>\n",
       "    <tr>\n",
       "      <th>1</th>\n",
       "      <td>buddhism much lot compat christian especi cons...</td>\n",
       "      <td>Positive</td>\n",
       "    </tr>\n",
       "    <tr>\n",
       "      <th>2</th>\n",
       "      <td>serious say thing first get complex explain no...</td>\n",
       "      <td>Negative</td>\n",
       "    </tr>\n",
       "    <tr>\n",
       "      <th>3</th>\n",
       "      <td>learn want teach differ focu goal wrap paper b...</td>\n",
       "      <td>Neutral</td>\n",
       "    </tr>\n",
       "    <tr>\n",
       "      <th>4</th>\n",
       "      <td>benefit may want read live buddha live christ ...</td>\n",
       "      <td>Positive</td>\n",
       "    </tr>\n",
       "    <tr>\n",
       "      <th>...</th>\n",
       "      <td>...</td>\n",
       "      <td>...</td>\n",
       "    </tr>\n",
       "    <tr>\n",
       "      <th>200224</th>\n",
       "      <td>456 crore paid neerav modi recov congress lead...</td>\n",
       "      <td>Negative</td>\n",
       "    </tr>\n",
       "    <tr>\n",
       "      <th>200225</th>\n",
       "      <td>dear rss terrorist payal gawar modi kill 1000 ...</td>\n",
       "      <td>Negative</td>\n",
       "    </tr>\n",
       "    <tr>\n",
       "      <th>200226</th>\n",
       "      <td>cover interact forum left</td>\n",
       "      <td>Neutral</td>\n",
       "    </tr>\n",
       "    <tr>\n",
       "      <th>200227</th>\n",
       "      <td>big project came india modi dream project happ...</td>\n",
       "      <td>Neutral</td>\n",
       "    </tr>\n",
       "    <tr>\n",
       "      <th>200228</th>\n",
       "      <td>ever listen like gurukul disciplin maintain ev...</td>\n",
       "      <td>Positive</td>\n",
       "    </tr>\n",
       "  </tbody>\n",
       "</table>\n",
       "<p>200118 rows × 2 columns</p>\n",
       "</div>"
      ],
      "text/plain": [
       "                                                     text  category\n",
       "0       famili mormon never tri explain still stare pu...  Positive\n",
       "1       buddhism much lot compat christian especi cons...  Positive\n",
       "2       serious say thing first get complex explain no...  Negative\n",
       "3       learn want teach differ focu goal wrap paper b...   Neutral\n",
       "4       benefit may want read live buddha live christ ...  Positive\n",
       "...                                                   ...       ...\n",
       "200224  456 crore paid neerav modi recov congress lead...  Negative\n",
       "200225  dear rss terrorist payal gawar modi kill 1000 ...  Negative\n",
       "200226                          cover interact forum left   Neutral\n",
       "200227  big project came india modi dream project happ...   Neutral\n",
       "200228  ever listen like gurukul disciplin maintain ev...  Positive\n",
       "\n",
       "[200118 rows x 2 columns]"
      ]
     },
     "execution_count": 27,
     "metadata": {},
     "output_type": "execute_result"
    }
   ],
   "source": [
    "df1"
   ]
  },
  {
   "cell_type": "code",
   "execution_count": 28,
   "id": "b507904e-143b-43c1-9797-6601c948ea90",
   "metadata": {
    "scrolled": true
   },
   "outputs": [
    {
     "data": {
      "text/html": [
       "<div>\n",
       "<style scoped>\n",
       "    .dataframe tbody tr th:only-of-type {\n",
       "        vertical-align: middle;\n",
       "    }\n",
       "\n",
       "    .dataframe tbody tr th {\n",
       "        vertical-align: top;\n",
       "    }\n",
       "\n",
       "    .dataframe thead th {\n",
       "        text-align: right;\n",
       "    }\n",
       "</style>\n",
       "<table border=\"1\" class=\"dataframe\">\n",
       "  <thead>\n",
       "    <tr style=\"text-align: right;\">\n",
       "      <th></th>\n",
       "      <th>text</th>\n",
       "      <th>category</th>\n",
       "    </tr>\n",
       "  </thead>\n",
       "  <tbody>\n",
       "    <tr>\n",
       "      <th>0</th>\n",
       "      <td>famili mormon never tri explain still stare pu...</td>\n",
       "      <td>Positive</td>\n",
       "    </tr>\n",
       "    <tr>\n",
       "      <th>1</th>\n",
       "      <td>buddhism much lot compat christian especi cons...</td>\n",
       "      <td>Positive</td>\n",
       "    </tr>\n",
       "    <tr>\n",
       "      <th>2</th>\n",
       "      <td>serious say thing first get complex explain no...</td>\n",
       "      <td>Negative</td>\n",
       "    </tr>\n",
       "    <tr>\n",
       "      <th>3</th>\n",
       "      <td>learn want teach differ focu goal wrap paper b...</td>\n",
       "      <td>Neutral</td>\n",
       "    </tr>\n",
       "    <tr>\n",
       "      <th>4</th>\n",
       "      <td>benefit may want read live buddha live christ ...</td>\n",
       "      <td>Positive</td>\n",
       "    </tr>\n",
       "  </tbody>\n",
       "</table>\n",
       "</div>"
      ],
      "text/plain": [
       "                                                text  category\n",
       "0  famili mormon never tri explain still stare pu...  Positive\n",
       "1  buddhism much lot compat christian especi cons...  Positive\n",
       "2  serious say thing first get complex explain no...  Negative\n",
       "3  learn want teach differ focu goal wrap paper b...   Neutral\n",
       "4  benefit may want read live buddha live christ ...  Positive"
      ]
     },
     "execution_count": 28,
     "metadata": {},
     "output_type": "execute_result"
    }
   ],
   "source": [
    "df1.head()"
   ]
  },
  {
   "cell_type": "code",
   "execution_count": 29,
   "id": "24edb6c8-7e20-4a24-a08b-15e559f3a9a7",
   "metadata": {},
   "outputs": [
    {
     "data": {
      "text/plain": [
       "'benefit may want read live buddha live christ thich nhat hanh might find subsequ discuss love one easier abl articul parallel exist buddhism christian surpris react neg lost treat compass deserv understand although may inde display sign hurt new path properli share way may allevi fear someth may perceiv wrong least alien belief may help allow long run accept although necessarili agre decis regardless end make way'"
      ]
     },
     "execution_count": 29,
     "metadata": {},
     "output_type": "execute_result"
    }
   ],
   "source": [
    "df1['text'][4]"
   ]
  },
  {
   "cell_type": "markdown",
   "id": "23eb1bb9-27f6-4358-ad0c-a346dac17261",
   "metadata": {},
   "source": [
    "Data Visualization"
   ]
  },
  {
   "cell_type": "code",
   "execution_count": 30,
   "id": "f71f64cc-8e63-491f-a3d7-cf34f5966f83",
   "metadata": {},
   "outputs": [
    {
     "data": {
      "image/png": "[encoded data removed]",
      "text/plain": [
       "<Figure size 640x480 with 1 Axes>"
      ]
     },
     "metadata": {},
     "output_type": "display_data"
    }
   ],
   "source": [
    "ax= sns.countplot(x='category',data=df1,palette=\"Set1\",hue=\"category\",legend=False)"
   ]
  },
  {
   "cell_type": "code",
   "execution_count": 31,
   "id": "b9d0d1a8-02ab-4fb7-a028-f1a65ae28cfa",
   "metadata": {},
   "outputs": [],
   "source": [
    "#let introduce a column which has number of words in a tweet\n",
    "def find_len(text):\n",
    "    return len(text.split())"
   ]
  },
  {
   "cell_type": "code",
   "execution_count": 32,
   "id": "65ab8061-70fc-4434-8331-c70c79627e87",
   "metadata": {},
   "outputs": [
    {
     "name": "stderr",
     "output_type": "stream",
     "text": [
      "/tmp/ipykernel_12845/1705434168.py:1: SettingWithCopyWarning: \n",
      "A value is trying to be set on a copy of a slice from a DataFrame.\n",
      "Try using .loc[row_indexer,col_indexer] = value instead\n",
      "\n",
      "See the caveats in the documentation: https://pandas.pydata.org/pandas-docs/stable/user_guide/indexing.html#returning-a-view-versus-a-copy\n",
      "  df1.loc[:,\"words_in_text\"] = df1['text'].apply(find_len)\n"
     ]
    }
   ],
   "source": [
    "df1.loc[:,\"words_in_text\"] = df1['text'].apply(find_len)"
   ]
  },
  {
   "cell_type": "code",
   "execution_count": 33,
   "id": "4012ee86-32bb-4382-af96-54eb894fc888",
   "metadata": {},
   "outputs": [
    {
     "data": {
      "text/html": [
       "<div>\n",
       "<style scoped>\n",
       "    .dataframe tbody tr th:only-of-type {\n",
       "        vertical-align: middle;\n",
       "    }\n",
       "\n",
       "    .dataframe tbody tr th {\n",
       "        vertical-align: top;\n",
       "    }\n",
       "\n",
       "    .dataframe thead th {\n",
       "        text-align: right;\n",
       "    }\n",
       "</style>\n",
       "<table border=\"1\" class=\"dataframe\">\n",
       "  <thead>\n",
       "    <tr style=\"text-align: right;\">\n",
       "      <th></th>\n",
       "      <th>text</th>\n",
       "      <th>category</th>\n",
       "      <th>words_in_text</th>\n",
       "    </tr>\n",
       "  </thead>\n",
       "  <tbody>\n",
       "    <tr>\n",
       "      <th>0</th>\n",
       "      <td>famili mormon never tri explain still stare pu...</td>\n",
       "      <td>Positive</td>\n",
       "      <td>26</td>\n",
       "    </tr>\n",
       "    <tr>\n",
       "      <th>1</th>\n",
       "      <td>buddhism much lot compat christian especi cons...</td>\n",
       "      <td>Positive</td>\n",
       "      <td>137</td>\n",
       "    </tr>\n",
       "    <tr>\n",
       "      <th>2</th>\n",
       "      <td>serious say thing first get complex explain no...</td>\n",
       "      <td>Negative</td>\n",
       "      <td>46</td>\n",
       "    </tr>\n",
       "    <tr>\n",
       "      <th>3</th>\n",
       "      <td>learn want teach differ focu goal wrap paper b...</td>\n",
       "      <td>Neutral</td>\n",
       "      <td>14</td>\n",
       "    </tr>\n",
       "    <tr>\n",
       "      <th>4</th>\n",
       "      <td>benefit may want read live buddha live christ ...</td>\n",
       "      <td>Positive</td>\n",
       "      <td>67</td>\n",
       "    </tr>\n",
       "  </tbody>\n",
       "</table>\n",
       "</div>"
      ],
      "text/plain": [
       "                                                text  category  words_in_text\n",
       "0  famili mormon never tri explain still stare pu...  Positive             26\n",
       "1  buddhism much lot compat christian especi cons...  Positive            137\n",
       "2  serious say thing first get complex explain no...  Negative             46\n",
       "3  learn want teach differ focu goal wrap paper b...   Neutral             14\n",
       "4  benefit may want read live buddha live christ ...  Positive             67"
      ]
     },
     "execution_count": 33,
     "metadata": {},
     "output_type": "execute_result"
    }
   ],
   "source": [
    "df1.head()"
   ]
  },
  {
   "cell_type": "code",
   "execution_count": 34,
   "id": "3ec09850-8064-488b-b42b-0b1fad60b074",
   "metadata": {},
   "outputs": [
    {
     "data": {
      "text/html": [
       "<div>\n",
       "<style scoped>\n",
       "    .dataframe tbody tr th:only-of-type {\n",
       "        vertical-align: middle;\n",
       "    }\n",
       "\n",
       "    .dataframe tbody tr th {\n",
       "        vertical-align: top;\n",
       "    }\n",
       "\n",
       "    .dataframe thead th {\n",
       "        text-align: right;\n",
       "    }\n",
       "</style>\n",
       "<table border=\"1\" class=\"dataframe\">\n",
       "  <thead>\n",
       "    <tr style=\"text-align: right;\">\n",
       "      <th></th>\n",
       "      <th>text</th>\n",
       "      <th>words_in_text</th>\n",
       "    </tr>\n",
       "    <tr>\n",
       "      <th>category</th>\n",
       "      <th></th>\n",
       "      <th></th>\n",
       "    </tr>\n",
       "  </thead>\n",
       "  <tbody>\n",
       "    <tr>\n",
       "      <th>Negative</th>\n",
       "      <td>43786</td>\n",
       "      <td>43786</td>\n",
       "    </tr>\n",
       "    <tr>\n",
       "      <th>Neutral</th>\n",
       "      <td>68253</td>\n",
       "      <td>68253</td>\n",
       "    </tr>\n",
       "    <tr>\n",
       "      <th>Positive</th>\n",
       "      <td>88079</td>\n",
       "      <td>88079</td>\n",
       "    </tr>\n",
       "  </tbody>\n",
       "</table>\n",
       "</div>"
      ],
      "text/plain": [
       "           text  words_in_text\n",
       "category                      \n",
       "Negative  43786          43786\n",
       "Neutral   68253          68253\n",
       "Positive  88079          88079"
      ]
     },
     "execution_count": 34,
     "metadata": {},
     "output_type": "execute_result"
    }
   ],
   "source": [
    "df1.groupby('category').count()"
   ]
  },
  {
   "cell_type": "code",
   "execution_count": 35,
   "id": "36c2d9d5-26da-42a6-93b5-375f4de829a5",
   "metadata": {
    "scrolled": true
   },
   "outputs": [
    {
     "data": {
      "image/png": "[encoded data removed]",
      "text/plain": [
       "<Figure size 1000x600 with 1 Axes>"
      ]
     },
     "metadata": {},
     "output_type": "display_data"
    }
   ],
   "source": [
    "plt.figure(figsize=(10,6))\n",
    "ax=sns.boxplot(y=\"words_in_text\",data=df1)\n",
    "plt.title(\"Distribution of Words in text by category\")\n",
    "plt.show()"
   ]
  },
  {
   "cell_type": "code",
   "execution_count": 36,
   "id": "1909c91d-384e-47bd-9e61-9fe57cb2ca71",
   "metadata": {},
   "outputs": [
    {
     "data": {
      "image/png": "[encoded data removed]",
      "text/plain": [
       "<Figure size 1000x600 with 1 Axes>"
      ]
     },
     "metadata": {},
     "output_type": "display_data"
    }
   ],
   "source": [
    "plt.figure(figsize=(10,6))\n",
    "ax=sns.countplot(x=\"words_in_text\",data=df1)\n",
    "\n",
    "n = 10\n",
    "for i, label in enumerate(ax.get_xticklabels()):\n",
    "    if i % n != 0:\n",
    "        label.set_visible(False)\n",
    "        \n",
    "plt.title(\"Distribution of Words in text by category\")\n",
    "plt.show()"
   ]
  },
  {
   "cell_type": "code",
   "execution_count": 37,
   "id": "f166dae6-6712-4b37-adae-76b1fdd15660",
   "metadata": {
    "scrolled": true
   },
   "outputs": [
    {
     "data": {
      "image/png": "[encoded data removed]",
      "text/plain": [
       "<Figure size 1000x600 with 1 Axes>"
      ]
     },
     "metadata": {},
     "output_type": "display_data"
    }
   ],
   "source": [
    "plt.figure(figsize=(10, 6))\n",
    "sns.histplot(data=df1, x=\"words_in_text\", bins=20, kde=True)\n",
    "plt.title(\"Distribution of Word Counts\")\n",
    "plt.xlabel(\"Number of Words in Text\")\n",
    "plt.ylabel(\"Frequency\")\n",
    "plt.show()"
   ]
  },
  {
   "cell_type": "code",
   "execution_count": 38,
   "id": "164bff48-2cf2-4c72-8188-ef42303516f5",
   "metadata": {},
   "outputs": [],
   "source": [
    "#we can conclude that most of the tweets have length between 0 to 15 words"
   ]
  },
  {
   "cell_type": "code",
   "execution_count": 39,
   "id": "b397f04a-5f98-40f0-8bca-dafcb7b63522",
   "metadata": {},
   "outputs": [
    {
     "data": {
      "text/plain": [
       "text             49158\n",
       "category         49158\n",
       "words_in_text    49158\n",
       "dtype: int64"
      ]
     },
     "execution_count": 39,
     "metadata": {},
     "output_type": "execute_result"
    }
   ],
   "source": [
    "df1[df1['words_in_text']>20].count()"
   ]
  },
  {
   "cell_type": "code",
   "execution_count": 40,
   "id": "742f05af-1c28-4833-b945-e177c48ba4cd",
   "metadata": {},
   "outputs": [],
   "source": [
    "#There are only 227 Tweets of length more than 20 words."
   ]
  },
  {
   "cell_type": "code",
   "execution_count": 41,
   "id": "d0dbf6b1-c452-40ba-a18c-75df0ceb6265",
   "metadata": {},
   "outputs": [],
   "source": [
    "majority_tweets= df1[df1['words_in_text']<10]"
   ]
  },
  {
   "cell_type": "code",
   "execution_count": 42,
   "id": "7cb012a9-936b-4b59-925c-d45244c63c73",
   "metadata": {
    "scrolled": true
   },
   "outputs": [
    {
     "data": {
      "image/png": "[encoded data removed]",
      "text/plain": [
       "<Figure size 640x480 with 1 Axes>"
      ]
     },
     "metadata": {},
     "output_type": "display_data"
    }
   ],
   "source": [
    "ax = sns.countplot(x = 'category', data = majority_tweets, hue='category')"
   ]
  },
  {
   "cell_type": "code",
   "execution_count": 43,
   "id": "fa35139f-a9a0-4a4f-85be-c19f797497b3",
   "metadata": {},
   "outputs": [],
   "source": [
    "#we can observe that majority of the tweets are positive or neutral"
   ]
  },
  {
   "cell_type": "code",
   "execution_count": 44,
   "id": "36b80333-fcb4-44a0-89be-6627c1516bf4",
   "metadata": {},
   "outputs": [],
   "source": [
    "## These are basically the tweets which were in other language and  does not had english char in original tweet, and got cleared up while pre-proscessing\n",
    "zero_len_tweet = df1[df1['words_in_text']==0]"
   ]
  },
  {
   "cell_type": "code",
   "execution_count": 45,
   "id": "34d43728-14ed-4ca7-9545-3a265bdfaa68",
   "metadata": {
    "scrolled": true
   },
   "outputs": [
    {
     "data": {
      "image/png": "[encoded data removed]",
      "text/plain": [
       "<Figure size 640x480 with 1 Axes>"
      ]
     },
     "metadata": {},
     "output_type": "display_data"
    }
   ],
   "source": [
    "ax = sns.countplot(x='category', data = zero_len_tweet,hue='category')"
   ]
  },
  {
   "cell_type": "markdown",
   "id": "629d2a7e-ffb5-4e66-9128-d546da5767e8",
   "metadata": {},
   "source": [
    "Feature Extraction: Bag of words\n",
    " -  To train a machine learning model on text data, you need to convert the text into numerical features."
   ]
  },
  {
   "cell_type": "code",
   "execution_count": 46,
   "id": "5e46905d-838c-47f3-99d2-16233247ad93",
   "metadata": {},
   "outputs": [],
   "source": [
    "from sklearn.feature_extraction.text import CountVectorizer"
   ]
  },
  {
   "cell_type": "code",
   "execution_count": 59,
   "id": "39812b74-5059-488e-b23f-0f5651734aa8",
   "metadata": {},
   "outputs": [],
   "source": [
    "count_vectorizer = CountVectorizer(max_features=5000)\n",
    "count_matrix = count_vectorizer.fit_transform(df1['text'])"
   ]
  },
  {
   "cell_type": "code",
   "execution_count": 60,
   "id": "4622bbf9-5329-4d51-9ae4-246a714474df",
   "metadata": {},
   "outputs": [],
   "source": [
    "import pickle\n",
    "pickle.dump(count_vectorizer,open(\"count_vectorizer.pkl\",\"wb\"))"
   ]
  },
  {
   "cell_type": "markdown",
   "id": "4ad767a9-2d5d-493e-ace4-497e407732c0",
   "metadata": {},
   "source": [
    "splitting the data : 75% for training and 25% for testing"
   ]
  },
  {
   "cell_type": "code",
   "execution_count": 61,
   "id": "77e9c25e-da45-4b75-a8c9-74de9469cbb3",
   "metadata": {},
   "outputs": [],
   "source": [
    "from sklearn.model_selection import train_test_split"
   ]
  },
  {
   "cell_type": "code",
   "execution_count": 62,
   "id": "94dbb943-641b-4189-ab67-e233ae8a9093",
   "metadata": {},
   "outputs": [],
   "source": [
    "X_train, X_test, y_train, y_test = train_test_split(count_matrix, df1['category'], test_size=0.2, random_state=42)"
   ]
  },
  {
   "cell_type": "markdown",
   "id": "4f379940-81c6-4fb6-ba7c-b400d146e4a6",
   "metadata": {},
   "source": [
    "train the model using Multinomial Naive bayes"
   ]
  },
  {
   "cell_type": "code",
   "execution_count": 63,
   "id": "b215c758-3aad-4d89-a53b-0c07e667fa35",
   "metadata": {},
   "outputs": [],
   "source": [
    "from sklearn.naive_bayes import MultinomialNB"
   ]
  },
  {
   "cell_type": "code",
   "execution_count": 64,
   "id": "b6f5cc10-0c11-4d9c-b20b-426cb25d9808",
   "metadata": {},
   "outputs": [],
   "source": [
    "nb_classifier = MultinomialNB()\n",
    "nb_classifier.fit(X_train, y_train)\n",
    "y_pred = nb_classifier.predict(X_test)"
   ]
  },
  {
   "cell_type": "code",
   "execution_count": 65,
   "id": "e674060a-a468-4674-9c49-885e8f7c1a71",
   "metadata": {},
   "outputs": [],
   "source": [
    "from sklearn.metrics import accuracy_score, classification_report"
   ]
  },
  {
   "cell_type": "code",
   "execution_count": 66,
   "id": "09e779af-0d1e-4342-adce-cfb4078a683a",
   "metadata": {
    "scrolled": true
   },
   "outputs": [
    {
     "name": "stdout",
     "output_type": "stream",
     "text": [
      "Accuracy: 0.7282630421746952\n",
      "              precision    recall  f1-score   support\n",
      "\n",
      "    Negative       0.68      0.64      0.66      8860\n",
      "     Neutral       0.75      0.71      0.73     13527\n",
      "    Positive       0.73      0.79      0.76     17637\n",
      "\n",
      "    accuracy                           0.73     40024\n",
      "   macro avg       0.72      0.71      0.72     40024\n",
      "weighted avg       0.73      0.73      0.73     40024\n",
      "\n"
     ]
    }
   ],
   "source": [
    "accuracy = accuracy_score(y_test, y_pred)\n",
    "print(\"Accuracy:\", accuracy)\n",
    "print(classification_report(y_test, y_pred))"
   ]
  },
  {
   "cell_type": "code",
   "execution_count": 67,
   "id": "1163730b-53a4-4938-b36d-744e9b963f0d",
   "metadata": {},
   "outputs": [],
   "source": [
    "from sklearn.linear_model import LogisticRegression"
   ]
  },
  {
   "cell_type": "code",
   "execution_count": 68,
   "id": "81bce4e8-6f0f-47f3-9d73-9e5fee84032e",
   "metadata": {},
   "outputs": [],
   "source": [
    "logistic_classifier = LogisticRegression(max_iter=1000)  \n",
    "logistic_classifier.fit(X_train, y_train)\n",
    "y_pred = logistic_classifier.predict(X_test)\n",
    "pickle.dump(logistic_classifier,open(\"logistic_classifier_for_count_vectorizer.pkl\",\"wb\"))"
   ]
  },
  {
   "cell_type": "code",
   "execution_count": 69,
   "id": "4de4bf1a-5a87-4be9-8e1e-0be3c30b44f7",
   "metadata": {},
   "outputs": [],
   "source": [
    "from sklearn.metrics import accuracy_score, classification_report"
   ]
  },
  {
   "cell_type": "code",
   "execution_count": 70,
   "id": "7a6e92de-7212-4d20-a75d-00e705b01947",
   "metadata": {},
   "outputs": [
    {
     "name": "stdout",
     "output_type": "stream",
     "text": [
      "Accuracy: 0.8518388966620029\n",
      "              precision    recall  f1-score   support\n",
      "\n",
      "    Negative       0.81      0.75      0.78      8860\n",
      "     Neutral       0.83      0.92      0.87     13527\n",
      "    Positive       0.89      0.85      0.87     17637\n",
      "\n",
      "    accuracy                           0.85     40024\n",
      "   macro avg       0.84      0.84      0.84     40024\n",
      "weighted avg       0.85      0.85      0.85     40024\n",
      "\n"
     ]
    }
   ],
   "source": [
    "accuracy = accuracy_score(y_test, y_pred)\n",
    "print(\"Accuracy:\", accuracy)\n",
    "print(classification_report(y_test, y_pred))"
   ]
  },
  {
   "cell_type": "code",
   "execution_count": 73,
   "id": "08fa1c5b-60c6-4b20-92c5-f6e7b2b75ad8",
   "metadata": {},
   "outputs": [],
   "source": [
    "vectorizer=pickle.load(open(\"count_vectorizer.pkl\",\"rb\"))\n",
    "classifier=pickle.load(open(\"logistic_classifier_for_count_vectorizer.pkl\",\"rb\"))"
   ]
  },
  {
   "cell_type": "code",
   "execution_count": 81,
   "id": "7ddb13ca-7dbd-4efc-902e-309061d33786",
   "metadata": {
    "scrolled": true
   },
   "outputs": [
    {
     "name": "stdin",
     "output_type": "stream",
     "text": [
      "Enter your text:  what a nice compliment by the director\n"
     ]
    },
    {
     "name": "stdout",
     "output_type": "stream",
     "text": [
      "category: Positive\n"
     ]
    },
    {
     "name": "stdin",
     "output_type": "stream",
     "text": [
      "Enter your text:  it's a bad situation in the country right now\n"
     ]
    },
    {
     "name": "stdout",
     "output_type": "stream",
     "text": [
      "category: Negative\n"
     ]
    },
    {
     "name": "stdin",
     "output_type": "stream",
     "text": [
      "Enter your text:  lets go to the park\n"
     ]
    },
    {
     "name": "stdout",
     "output_type": "stream",
     "text": [
      "category: Neutral\n"
     ]
    }
   ],
   "source": [
    "for i in range(3):\n",
    "    user_text=[input(\"Enter your text: \")]\n",
    "    vectorized_text = vectorizer.transform(user_text)\n",
    "    prediction = classifier.predict(vectorized_text)\n",
    "    print('category:',prediction[0])"
   ]
  }
 ],
 "metadata": {
  "kernelspec": {
   "display_name": "Python 3 (ipykernel)",
   "language": "python",
   "name": "python3"
  },
  "language_info": {
   "codemirror_mode": {
    "name": "ipython",
    "version": 3
   },
   "file_extension": ".py",
   "mimetype": "text/x-python",
   "name": "python",
   "nbconvert_exporter": "python",
   "pygments_lexer": "ipython3",
   "version": "3.11.4"
  }
 },
 "nbformat": 4,
 "nbformat_minor": 5
}
